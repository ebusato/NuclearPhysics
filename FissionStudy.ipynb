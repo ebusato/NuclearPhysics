{
 "cells": [
  {
   "cell_type": "code",
   "execution_count": 6,
   "metadata": {},
   "outputs": [
    {
     "name": "stdout",
     "output_type": "stream",
     "text": [
      "28.089010555590313\n"
     ]
    }
   ],
   "source": [
    "import numpy as np\n",
    "\n",
    "cst_as = 17.23\n",
    "cst_ac = 0.7\n",
    "\n",
    "def Ed(Z,A):\n",
    "    return -1*cst_as*np.power(A,2/3)*(np.power(2,1/3)-1)-cst_ac*Z*Z/np.power(A,1/3)*(np.power(2,-1/3)-1)\n",
    "\n",
    "def Ec(Z,A):\n",
    "    return 5*np.power(2,1/3)/24*cst_ac*Z*Z/np.power(A,1/3)\n",
    "    \n",
    "def Ea(Z, A):\n",
    "    return Ec(Z,A)-Ed(Z,A)\n",
    "\n",
    "print(Ea(20,10))"
   ]
  }
 ],
 "metadata": {
  "kernelspec": {
   "display_name": "Python 3",
   "language": "python",
   "name": "python3"
  },
  "language_info": {
   "codemirror_mode": {
    "name": "ipython",
    "version": 3
   },
   "file_extension": ".py",
   "mimetype": "text/x-python",
   "name": "python",
   "nbconvert_exporter": "python",
   "pygments_lexer": "ipython3",
   "version": "3.7.0"
  }
 },
 "nbformat": 4,
 "nbformat_minor": 2
}
